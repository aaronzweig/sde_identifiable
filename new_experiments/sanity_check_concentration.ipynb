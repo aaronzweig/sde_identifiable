{
 "cells": [
  {
   "cell_type": "code",
   "execution_count": 1,
   "id": "1f3f5439-b763-444e-9e61-96147ca2e66e",
   "metadata": {},
   "outputs": [
    {
     "name": "stderr",
     "output_type": "stream",
     "text": [
      "2025-03-13 15:23:04.149953: E external/local_xla/xla/stream_executor/cuda/cuda_fft.cc:477] Unable to register cuFFT factory: Attempting to register factory for plugin cuFFT when one has already been registered\n",
      "WARNING: All log messages before absl::InitializeLog() is called are written to STDERR\n",
      "E0000 00:00:1741893784.160629 2821983 cuda_dnn.cc:8310] Unable to register cuDNN factory: Attempting to register factory for plugin cuDNN when one has already been registered\n",
      "E0000 00:00:1741893784.163889 2821983 cuda_blas.cc:1418] Unable to register cuBLAS factory: Attempting to register factory for plugin cuBLAS when one has already been registered\n"
     ]
    }
   ],
   "source": [
    "import sys\n",
    "import os\n",
    "sys.path.append(os.path.abspath(\"..\"))\n",
    "\n",
    "from jax import random, numpy as jnp\n",
    "from stadion.models import LinearSDE, MLPSDE\n",
    "from pprint import pprint\n",
    "from stadion import kds_loss\n",
    "import numpy as onp\n",
    "import ot"
   ]
  },
  {
   "cell_type": "code",
   "execution_count": 2,
   "id": "759e027c-21f6-4eb5-9888-de1db3ed0bce",
   "metadata": {},
   "outputs": [],
   "source": [
    "from nn import NNSDE\n",
    "from nonlinear_script import *"
   ]
  },
  {
   "cell_type": "code",
   "execution_count": 3,
   "id": "2897e2cc-a635-4a1e-bc02-a5c1cd47c33a",
   "metadata": {},
   "outputs": [],
   "source": [
    "n = 2000\n",
    "d = 20\n",
    "r = 3\n",
    "n_envs = 10\n",
    "n_test_envs = 10\n",
    "epsilon = 0.2\n",
    "gamma = 0.98\n",
    "activation = \"mixed\"\n",
    "model_activation = \"learned\"\n",
    "\n",
    "model_hidden_size = 4\n",
    "\n",
    "bandwidth = 7.0\n",
    "steps = 50000\n",
    "estimator = \"linear\"\n",
    "reg = 0.000\n",
    "\n",
    "scale = 1e-1\n",
    "intv_scale = 0.3\n",
    "\n",
    "n_samples_burnin=200\n",
    "learning_rate = 0.003\n",
    "weight_decay = 0.0001\n",
    "\n",
    "seed = 12"
   ]
  },
  {
   "cell_type": "code",
   "execution_count": 4,
   "id": "ba845a01-6a9a-4688-b5ed-63a1ec5d095a",
   "metadata": {},
   "outputs": [
    {
     "name": "stderr",
     "output_type": "stream",
     "text": [
      "WARNING:2025-03-13 15:23:05,990:jax._src.xla_bridge:987: An NVIDIA GPU may be present on this machine, but a CUDA-enabled jaxlib is not installed. Falling back to cpu.\n",
      "W0000 00:00:1741893816.504022 2821983 gpu_device.cc:2344] Cannot dlopen some GPU libraries. Please make sure the missing libraries mentioned above are installed properly if you would like to use GPU. Follow the guide at https://www.tensorflow.org/install/gpu for how to download and setup the required libraries for your platform.\n",
      "Skipping registering GPU devices...\n"
     ]
    },
    {
     "name": "stdout",
     "output_type": "stream",
     "text": [
      "step:  5000 kds:     0.000498  | min remain:  2.1  sec/step: 0.003\n",
      "step: 10000 kds:     0.000039  | min remain:  1.6  sec/step: 0.002\n",
      "step: 15000 kds:     0.000038  | min remain:  1.4  sec/step: 0.002\n",
      "step: 20000 kds:     0.000035  | min remain:  1.2  sec/step: 0.002\n",
      "step: 25000 kds:     0.000039  | min remain:  1.0  sec/step: 0.002\n",
      "step: 30000 kds:     0.000029  | min remain:  0.8  sec/step: 0.002\n",
      "step: 35000 kds:     0.000025  | min remain:  0.6  sec/step: 0.002\n",
      "step: 40000 kds:     0.000029  | min remain:  0.4  sec/step: 0.002\n",
      "step: 45000 kds:     0.000021  | min remain:  0.2  sec/step: 0.002\n",
      "step: 50000 kds:     0.000026  | min remain:  0.0  sec/step: 0.002\n"
     ]
    }
   ],
   "source": [
    "key = random.PRNGKey(seed)\n",
    "\n",
    "true_model = build_model(r, activation, epsilon, gamma, n_samples_burnin)\n",
    "key, true_model, param = initialize_model(key, true_model, d)\n",
    "\n",
    "# param[\"mlp_0\"] = jax.numpy.eye(d, r)\n",
    "# param[\"mlp_1\"] = jax.numpy.eye(r, d)\n",
    "# true_model.param = param\n",
    "\n",
    "key, intv_param, datasets, targets = build_data(key, true_model, d, n_envs, intv_scale, n)\n",
    "key, test_intv_param, test_datasets, test_targets = build_data(key, true_model, d, n_test_envs, intv_scale, n)\n",
    "\n",
    "\n",
    "model = build_model(model_hidden_size, model_activation, epsilon, gamma, n_samples_burnin)\n",
    "key, model = fit_model(key, model, datasets, targets, intv_param, bandwidth, steps, estimator,\n",
    "                       reg, learning_rate, weight_decay, scale)"
   ]
  },
  {
   "cell_type": "code",
   "execution_count": 5,
   "id": "87152e9f-aafd-465e-943f-5218198e0a8e",
   "metadata": {},
   "outputs": [
    {
     "name": "stdout",
     "output_type": "stream",
     "text": [
      "[ 6.638041   5.8263144  7.731132   8.976746   6.3155036  6.7212167\n",
      "  8.138009   1.4022197 10.070792   8.458597 ]\n",
      "7.0278573 2.2511466\n"
     ]
    }
   ],
   "source": [
    "wds, mean, std = assess_model_mean(key, model, n_test_envs, test_intv_param, test_datasets, n)\n",
    "print(wds)\n",
    "print(mean, std)"
   ]
  },
  {
   "cell_type": "code",
   "execution_count": 6,
   "id": "7118e023-269f-4c80-b123-bb09c491e1c0",
   "metadata": {},
   "outputs": [
    {
     "name": "stdout",
     "output_type": "stream",
     "text": [
      "[0.80941457 0.56436753 0.49097773 0.4865995  0.87020886 0.44422337\n",
      " 0.4845277  0.35852554 0.6442967  0.9672584 ]\n",
      "0.61204 0.19343834\n"
     ]
    }
   ],
   "source": [
    "wds, mean, std = assess_model_mean(key, true_model, n_test_envs, test_intv_param, test_datasets, n)\n",
    "print(wds)\n",
    "print(mean, std)"
   ]
  },
  {
   "cell_type": "code",
   "execution_count": 7,
   "id": "b39cf418-d344-4cf4-a89c-1672f99d2844",
   "metadata": {},
   "outputs": [],
   "source": [
    "# #W2\n",
    "# wds, mean, std = assess_model(key, model, n_test_envs, test_intv_param, test_datasets, n, ot_epsilon = 0.2)\n",
    "# print(wds)\n",
    "# print(mean, std)\n",
    "\n",
    "# wds, mean, std = assess_model(key, true_model, n_test_envs, test_intv_param, test_datasets, n, ot_epsilon = 0.2)\n",
    "# print(wds)\n",
    "# print(mean, std)"
   ]
  },
  {
   "cell_type": "code",
   "execution_count": 8,
   "id": "ef109135-cfb6-40a6-a207-db477bcba273",
   "metadata": {},
   "outputs": [],
   "source": [
    "#s:13.926264 5.4777803\n",
    "\n",
    "#s2:\n",
    "#l:\n",
    "#l2:\n",
    "#t:0.61204 0.19343834\n",
    "\n",
    "#t2:"
   ]
  },
  {
   "cell_type": "code",
   "execution_count": 9,
   "id": "63199469-2aca-40c6-8351-fdb587b76c1d",
   "metadata": {},
   "outputs": [],
   "source": [
    "#s:\n",
    "#s2:\n",
    "#l:\n",
    "#l2:\n",
    "#t:\n",
    "#t2:"
   ]
  },
  {
   "cell_type": "code",
   "execution_count": 10,
   "id": "b71dd4f2-0aa6-46f3-9102-0f06b6643059",
   "metadata": {},
   "outputs": [],
   "source": [
    "import matplotlib.pyplot as plt\n",
    "%matplotlib inline\n",
    "import seaborn as sns\n",
    "\n",
    "if d == 2:\n",
    "\n",
    "    total = 4\n",
    "\n",
    "    pred_datasets = []\n",
    "    for k in range(total):\n",
    "        local_intv_param = intv_param.index_at(k)\n",
    "        key, subk = random.split(key)\n",
    "        data = model.sample(subk, n_samples = n, intv_param = local_intv_param)\n",
    "        pred_datasets.append(data)\n",
    "\n",
    "    fig, axes = plt.subplots(nrows=total,ncols=2,sharex=True, sharey=True)\n",
    "\n",
    "    \n",
    "    for k in range(total):\n",
    "    \n",
    "        x = datasets[k][:,0]\n",
    "        y = datasets[k][:,1]\n",
    "        sns.kdeplot(x=x, y=y, ax = axes[k,0], fill=True,cmap=\"Purples_r\")\n",
    "        axes[k,0].set_title(f\"True model on training env {k}\")\n",
    "        \n",
    "        x = pred_datasets[k][:,0]\n",
    "        y = pred_datasets[k][:,1]\n",
    "        sns.kdeplot(x=x, y=y, ax = axes[k,1], fill=True,cmap=\"Purples_r\")\n",
    "        axes[k,1].set_title(f\"Trained model on training env {k}\")\n",
    "\n",
    "    plt.tight_layout()\n",
    "    plt.show()\n"
   ]
  },
  {
   "cell_type": "code",
   "execution_count": 11,
   "id": "086d3371-7859-40aa-81e4-831e1ac25083",
   "metadata": {},
   "outputs": [],
   "source": [
    "if d == 2:\n",
    "\n",
    "    total = 4\n",
    "\n",
    "    pred_test_datasets = []\n",
    "    for k in range(total):\n",
    "        local_intv_param = test_intv_param.index_at(k)\n",
    "        key, subk = random.split(key)\n",
    "        data = model.sample(subk, n_samples = n, intv_param = local_intv_param)\n",
    "        pred_test_datasets.append(data)\n",
    "\n",
    "    fig, axes = plt.subplots(nrows=total,ncols=2,sharex=True, sharey=True)\n",
    "\n",
    "    for k in range(total):\n",
    "    \n",
    "        x = test_datasets[k][:,0]\n",
    "        y = test_datasets[k][:,1]\n",
    "        sns.kdeplot(x=x, y=y, ax = axes[k,0], fill=True,cmap=\"Purples_r\")\n",
    "        axes[k,0].set_title(f\"True model on test env {k}\")\n",
    "        \n",
    "        x = pred_test_datasets[k][:,0]\n",
    "        y = pred_test_datasets[k][:,1]\n",
    "        sns.kdeplot(x=x, y=y, ax = axes[k,1], fill=True,cmap=\"Purples_r\")\n",
    "        axes[k,1].set_title(f\"Trained model on test env {k}\")\n",
    "\n",
    "    plt.tight_layout()\n",
    "    plt.show()"
   ]
  },
  {
   "cell_type": "code",
   "execution_count": 12,
   "id": "ba149cfd-27b2-4ff0-9432-c9b972772b93",
   "metadata": {},
   "outputs": [
    {
     "name": "stdout",
     "output_type": "stream",
     "text": [
      "ModelParameters\n",
      "{'A': Array([[ 1.06135150e-03,  1.84137318e-02,  7.91915059e-02,\n",
      "        -4.85216454e-02, -2.41584942e-01,  2.25841310e-02,\n",
      "         7.05641881e-02, -2.40996391e-01,  2.27144107e-01,\n",
      "         1.76713124e-01, -1.64344981e-01,  4.12784107e-02,\n",
      "         2.17562601e-01,  2.03528658e-01,  1.72908455e-02,\n",
      "         1.15032642e-04,  1.15673222e-01, -1.04073860e-01,\n",
      "        -2.57471919e-01,  1.03393197e-03],\n",
      "       [-7.94505626e-02, -2.08376974e-01, -2.28921622e-01,\n",
      "        -1.13350756e-01,  3.18713747e-02, -1.35422740e-02,\n",
      "        -1.55948058e-01,  8.10237899e-02, -8.12917724e-02,\n",
      "        -2.35335380e-02, -2.02927202e-01, -2.48189624e-02,\n",
      "        -9.38093066e-02, -8.89905766e-02, -1.92376137e-01,\n",
      "        -1.84606418e-01, -5.79361804e-02, -7.22021610e-02,\n",
      "        -1.84247419e-01, -2.30497181e-01],\n",
      "       [-5.40005565e-02,  2.52133846e-01, -2.37013353e-03,\n",
      "        -1.69623077e-01, -2.32304394e-01, -1.20850094e-01,\n",
      "        -6.49565384e-02,  1.33082226e-01,  1.83534637e-01,\n",
      "        -8.44168514e-02, -1.33415371e-01, -1.88131660e-01,\n",
      "        -1.15372501e-01,  1.32541314e-01, -2.80686491e-03,\n",
      "        -3.79014574e-03, -3.08091054e-03, -1.66994020e-01,\n",
      "        -2.75568161e-02,  2.39310607e-01],\n",
      "       [-1.11461006e-01, -2.91210085e-01,  3.17938742e-04,\n",
      "        -1.74364506e-03, -1.79143310e-01,  2.09156290e-01,\n",
      "        -1.88590363e-01, -1.43397555e-01, -1.64883733e-01,\n",
      "         3.19814533e-01,  1.38728321e-01, -1.10331856e-01,\n",
      "        -1.95450142e-01,  2.93361127e-01,  8.52541104e-02,\n",
      "         1.39415801e-01,  1.48145050e-01,  9.37633365e-02,\n",
      "         2.48913206e-02, -1.94613338e-01]], dtype=float32),\n",
      " 'B': Array([[ 0.02030641,  0.12884112,  0.22979912, -0.12713593, -0.5540615 ,\n",
      "         0.1057486 ,  0.26398858, -0.6844288 ,  0.53911513,  0.48015207,\n",
      "        -0.4927995 ,  0.17327021,  0.49972117,  0.59968853,  0.07432494,\n",
      "         0.02625763,  0.29527998, -0.3909604 , -0.65152156,  0.0267675 ],\n",
      "       [-2.249375  , -1.6288508 , -0.96903914, -2.0502603 , -3.1753452 ,\n",
      "        -2.8530192 , -1.8501761 , -3.24292   , -1.6595365 , -1.0885017 ,\n",
      "        -1.007608  , -2.6880195 , -2.230292  , -1.7016112 , -1.244369  ,\n",
      "        -1.6564559 , -1.5960116 , -2.3543818 , -1.7934381 , -1.2901078 ],\n",
      "       [ 0.23242682, -0.60815555,  0.1434193 ,  0.42746046,  0.61561024,\n",
      "         0.36709064,  0.31248364, -0.34923592, -0.38900092,  0.38083813,\n",
      "         0.47809282,  0.41172203,  0.3958111 , -0.3745313 ,  0.1516471 ,\n",
      "         0.167897  ,  0.16393022,  0.47231606,  0.23339054, -0.5028045 ],\n",
      "       [-0.45728835, -0.80509204, -0.03164466, -0.02595162, -0.5700743 ,\n",
      "         0.45389503, -0.53283274, -0.5136392 , -0.58606094,  0.7938387 ,\n",
      "         0.3795349 , -0.46471646, -0.6094614 ,  0.79498696,  0.24585724,\n",
      "         0.40428498,  0.42959148,  0.28684452,  0.05021455, -0.6482063 ]],      dtype=float32),\n",
      " 'c': Array([-2.128287 , -1.065875 , -2.837137 , -1.9436044, -1.044592 ,\n",
      "       -1.4186102, -1.4239371, -1.257824 , -1.0986481, -1.1485163,\n",
      "       -1.1674597, -1.7236792, -1.1181214, -1.0059768, -2.4647918,\n",
      "       -1.6578151, -1.8557504, -1.4537529, -1.1908668, -1.2735701],      dtype=float32),\n",
      " 'd': Array([ 0.09141184, -0.16796534,  0.23616797, -0.19732806], dtype=float32),\n",
      " 'log_reversion': Array([-1.2783897 , -1.3162673 , -1.4817736 , -0.00487386, -0.01875059,\n",
      "       -0.00622596, -0.00588341,  0.03108708, -0.00176365,  0.00847677,\n",
      "       -0.01338498,  0.0065954 ,  0.02635075, -0.00523868, -0.00739126,\n",
      "        0.00814039, -0.00236987,  0.02932073, -0.00685225,  0.00756213],      dtype=float32),\n",
      " 'mlp_0': Array([[ 0.29985693,  0.20462136, -0.9138055 , -0.35429356],\n",
      "       [-1.0230465 , -1.7998785 , -0.11899371, -0.4123871 ],\n",
      "       [ 0.28830805,  0.18164648,  0.5455344 , -0.40297553],\n",
      "       [-0.3937728 , -0.41929325,  0.6391639 , -0.3629712 ],\n",
      "       [ 0.7881407 , -0.2878542 , -0.5839167 ,  1.1071554 ],\n",
      "       [ 0.45169848, -0.16028805,  1.2459369 ,  0.7403244 ],\n",
      "       [ 1.3452135 , -0.2893961 , -0.56708187, -1.0263337 ],\n",
      "       [-0.6115191 , -0.33866298,  0.51045763, -0.35126767],\n",
      "       [-0.86822   ,  1.1060449 , -0.7559394 ,  0.7755637 ],\n",
      "       [ 0.35071597,  0.08786931, -0.29488745, -0.22381486],\n",
      "       [-0.99219704, -0.1305859 , -0.10811449,  0.39949173],\n",
      "       [ 0.08487093, -0.23209462,  0.6161642 , -1.7402319 ],\n",
      "       [ 0.89600843, -0.8255935 , -0.4156251 ,  1.2400485 ],\n",
      "       [ 0.80438066, -0.24150528,  1.1977025 ,  0.36455455],\n",
      "       [-0.46353734,  1.3042314 , -0.4146337 , -1.8090892 ],\n",
      "       [ 0.16675363,  0.8277204 , -1.4040426 ,  0.17820062],\n",
      "       [-0.08482942,  0.9359135 , -0.7384113 , -0.14057581],\n",
      "       [ 0.5163995 ,  0.19375966,  0.24836409, -0.27210206],\n",
      "       [-0.6914767 ,  0.53856105, -0.27854556,  0.05715074],\n",
      "       [ 0.6023965 , -0.35130128,  0.35576108,  0.14266759]],      dtype=float32),\n",
      " 'mlp_1': Array([[ 5.1201743e-01, -1.0058739e+00,  4.8468834e-01, -1.1343366e-02,\n",
      "        -9.0020699e-03, -8.0097821e-03,  1.6721604e-02, -3.2930415e-02,\n",
      "         6.2126028e-03, -1.3319838e-02, -1.8692845e-02, -4.4375928e-03,\n",
      "        -6.3588042e-03,  1.2197298e-02,  9.8207465e-04,  1.2183476e-02,\n",
      "         2.8682440e-03,  1.4895234e-03, -3.2627538e-03, -8.8476501e-03],\n",
      "       [ 1.4198908e-01,  7.3121196e-01, -1.9753432e-01,  1.8417014e-01,\n",
      "        -2.4750742e-01, -2.0805733e-02,  8.4226631e-02,  2.2836459e-01,\n",
      "         1.5304395e-02, -5.3126827e-02, -6.6909902e-02,  3.3152944e-01,\n",
      "        -7.0431298e-01, -2.1056955e-01,  1.1138693e-01,  1.6846961e-01,\n",
      "         7.3174246e-02,  7.8351349e-02, -2.2608021e-01, -4.6775710e-02],\n",
      "       [ 9.8118216e-01, -3.8190916e-02, -8.4133422e-01,  1.5041175e-02,\n",
      "         4.5874193e-03, -1.3879987e-02, -1.7506413e-02, -8.9619029e-03,\n",
      "        -4.1142367e-02, -4.1252179e-03,  1.1625013e-02, -2.7662007e-02,\n",
      "        -4.2249560e-03, -2.4280570e-02, -3.1778037e-03, -3.7860893e-02,\n",
      "         2.1396078e-02, -1.2868613e-02,  2.0195635e-02, -2.8768122e-02],\n",
      "       [-6.6799879e-01, -4.6309718e-01, -8.2767612e-01,  4.7737634e-04,\n",
      "         3.2621261e-03,  2.7966527e-03,  2.0040160e-02, -1.4173918e-02,\n",
      "         9.1548212e-04, -2.7930172e-02, -5.5915429e-03, -7.6973122e-03,\n",
      "         8.3598373e-03,  1.2028162e-02, -7.8597469e-03,  1.1752753e-02,\n",
      "        -1.1906032e-03, -4.1852319e-03, -5.0823493e-03, -2.4728861e-03]],      dtype=float32),\n",
      " 'mlp_b_0': Array([-0.38502243,  2.4787374 , -0.24101783,  0.06268831], dtype=float32),\n",
      " 'mlp_b_1': Array([ 0.10556073, -0.14583842,  0.05699266, -0.00300477,  0.00381411,\n",
      "       -0.00377011,  0.00187774, -0.00763101, -0.00261426,  0.00464416,\n",
      "        0.00445359, -0.0029478 , -0.00646475,  0.00730966, -0.00400292,\n",
      "       -0.00213259, -0.00189181,  0.00187201, -0.00117171,  0.00496866],      dtype=float32)}\n"
     ]
    }
   ],
   "source": [
    "print(model.param)"
   ]
  },
  {
   "cell_type": "code",
   "execution_count": 13,
   "id": "9eb6bf71-89ba-4ac6-8191-8c7348e976d9",
   "metadata": {},
   "outputs": [
    {
     "name": "stdout",
     "output_type": "stream",
     "text": [
      "ModelParameters\n",
      "{'log_reversion': Array([ 0., -0., -0., -0.,  0.,  0., -0., -0., -0., -0., -0.,  0.,  0.,\n",
      "        0., -0.,  0., -0., -0.,  0., -0.], dtype=float32),\n",
      " 'mlp_0': Array([[1., 0., 0.],\n",
      "       [0., 1., 0.],\n",
      "       [0., 0., 1.],\n",
      "       [0., 0., 0.],\n",
      "       [0., 0., 0.],\n",
      "       [0., 0., 0.],\n",
      "       [0., 0., 0.],\n",
      "       [0., 0., 0.],\n",
      "       [0., 0., 0.],\n",
      "       [0., 0., 0.],\n",
      "       [0., 0., 0.],\n",
      "       [0., 0., 0.],\n",
      "       [0., 0., 0.],\n",
      "       [0., 0., 0.],\n",
      "       [0., 0., 0.],\n",
      "       [0., 0., 0.],\n",
      "       [0., 0., 0.],\n",
      "       [0., 0., 0.],\n",
      "       [0., 0., 0.],\n",
      "       [0., 0., 0.]], dtype=float32),\n",
      " 'mlp_1': Array([[1., 0., 0., 0., 0., 0., 0., 0., 0., 0., 0., 0., 0., 0., 0., 0.,\n",
      "        0., 0., 0., 0.],\n",
      "       [0., 1., 0., 0., 0., 0., 0., 0., 0., 0., 0., 0., 0., 0., 0., 0.,\n",
      "        0., 0., 0., 0.],\n",
      "       [0., 0., 1., 0., 0., 0., 0., 0., 0., 0., 0., 0., 0., 0., 0., 0.,\n",
      "        0., 0., 0., 0.]], dtype=float32),\n",
      " 'mlp_b_0': Array([ 0.,  0., -0.], dtype=float32),\n",
      " 'mlp_b_1': Array([-0., -0., -0.,  0.,  0.,  0., -0.,  0., -0., -0., -0.,  0., -0.,\n",
      "        0., -0., -0.,  0.,  0., -0., -0.], dtype=float32)}\n"
     ]
    }
   ],
   "source": [
    "print(true_model.param)"
   ]
  },
  {
   "cell_type": "code",
   "execution_count": null,
   "id": "8d2054db-6508-4ba8-8417-49fe6b43537e",
   "metadata": {},
   "outputs": [],
   "source": []
  }
 ],
 "metadata": {
  "kernelspec": {
   "display_name": "Python 3 (ipykernel)",
   "language": "python",
   "name": "python3"
  },
  "language_info": {
   "codemirror_mode": {
    "name": "ipython",
    "version": 3
   },
   "file_extension": ".py",
   "mimetype": "text/x-python",
   "name": "python",
   "nbconvert_exporter": "python",
   "pygments_lexer": "ipython3",
   "version": "3.11.2"
  }
 },
 "nbformat": 4,
 "nbformat_minor": 5
}
