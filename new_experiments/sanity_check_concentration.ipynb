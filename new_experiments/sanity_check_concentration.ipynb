{
 "cells": [
  {
   "cell_type": "code",
   "execution_count": 1,
   "id": "1f3f5439-b763-444e-9e61-96147ca2e66e",
   "metadata": {},
   "outputs": [
    {
     "name": "stderr",
     "output_type": "stream",
     "text": [
      "2025-03-04 12:07:33.555190: E external/local_xla/xla/stream_executor/cuda/cuda_fft.cc:477] Unable to register cuFFT factory: Attempting to register factory for plugin cuFFT when one has already been registered\n",
      "WARNING: All log messages before absl::InitializeLog() is called are written to STDERR\n",
      "E0000 00:00:1741108053.565832 1408930 cuda_dnn.cc:8310] Unable to register cuDNN factory: Attempting to register factory for plugin cuDNN when one has already been registered\n",
      "E0000 00:00:1741108053.569092 1408930 cuda_blas.cc:1418] Unable to register cuBLAS factory: Attempting to register factory for plugin cuBLAS when one has already been registered\n"
     ]
    }
   ],
   "source": [
    "import sys\n",
    "import os\n",
    "sys.path.append(os.path.abspath(\"..\"))\n",
    "\n",
    "from jax import random, numpy as jnp\n",
    "from stadion.models import LinearSDE, MLPSDE\n",
    "from pprint import pprint\n",
    "from stadion import kds_loss\n",
    "import numpy as onp\n",
    "import ot"
   ]
  },
  {
   "cell_type": "code",
   "execution_count": 2,
   "id": "759e027c-21f6-4eb5-9888-de1db3ed0bce",
   "metadata": {},
   "outputs": [],
   "source": [
    "from nn import NNSDE\n",
    "from nonlinear_script import *"
   ]
  },
  {
   "cell_type": "code",
   "execution_count": 3,
   "id": "2897e2cc-a635-4a1e-bc02-a5c1cd47c33a",
   "metadata": {},
   "outputs": [],
   "source": [
    "n = 1000\n",
    "d = 2\n",
    "r = 2\n",
    "n_envs = 10\n",
    "n_test_envs = 10\n",
    "epsilon = 0.5\n",
    "gamma = 0.95\n",
    "activation = \"mixed\"\n",
    "model_activation = \"learned\"\n",
    "\n",
    "model_hidden_size = 16\n",
    "\n",
    "bandwidth = [1.0, 3.0, 5.0, 7.0]\n",
    "steps = 50000\n",
    "estimator = \"linear\"\n",
    "reg = 0.000\n",
    "\n",
    "scale = 1e-2\n",
    "intv_scale = 0.3\n",
    "\n",
    "n_samples_burnin=200\n",
    "learning_rate = 0.003\n",
    "weight_decay = 0.0001\n",
    "\n",
    "seed = 9"
   ]
  },
  {
   "cell_type": "code",
   "execution_count": 4,
   "id": "ba845a01-6a9a-4688-b5ed-63a1ec5d095a",
   "metadata": {},
   "outputs": [
    {
     "name": "stderr",
     "output_type": "stream",
     "text": [
      "WARNING:2025-03-04 12:07:35,393:jax._src.xla_bridge:987: An NVIDIA GPU may be present on this machine, but a CUDA-enabled jaxlib is not installed. Falling back to cpu.\n",
      "W0000 00:00:1741108065.555977 1408930 gpu_device.cc:2344] Cannot dlopen some GPU libraries. Please make sure the missing libraries mentioned above are installed properly if you would like to use GPU. Follow the guide at https://www.tensorflow.org/install/gpu for how to download and setup the required libraries for your platform.\n",
      "Skipping registering GPU devices...\n"
     ]
    },
    {
     "name": "stdout",
     "output_type": "stream",
     "text": [
      "step:  5000 kds:     0.102773  | min remain:  1.7  sec/step: 0.002\n",
      "step: 10000 kds:     0.068203  | min remain:  1.2  sec/step: 0.002\n",
      "step: 15000 kds:     0.061615  | min remain:  1.0  sec/step: 0.002\n",
      "step: 20000 kds:     0.055553  | min remain:  0.9  sec/step: 0.002\n",
      "step: 25000 kds:     0.045590  | min remain:  0.7  sec/step: 0.002\n",
      "step: 30000 kds:     0.040182  | min remain:  0.6  sec/step: 0.002\n",
      "step: 35000 kds:     0.032333  | min remain:  0.4  sec/step: 0.002\n",
      "step: 40000 kds:     0.028409  | min remain:  0.3  sec/step: 0.002\n",
      "step: 45000 kds:     0.024936  | min remain:  0.1  sec/step: 0.002\n",
      "step: 50000 kds:     0.013866  | min remain:  0.0  sec/step: 0.002\n"
     ]
    }
   ],
   "source": [
    "key = random.PRNGKey(seed)\n",
    "\n",
    "true_model = build_model(r, activation, epsilon, gamma, n_samples_burnin)\n",
    "key, true_model, param = initialize_model(key, true_model, d)\n",
    "\n",
    "# param[\"mlp_0\"] = jax.numpy.eye(d, r)\n",
    "# param[\"mlp_1\"] = jax.numpy.eye(r, d)\n",
    "# true_model.param = param\n",
    "\n",
    "key, intv_param, datasets, targets = build_data(key, true_model, d, n_envs, intv_scale, n)\n",
    "key, test_intv_param, test_datasets, test_targets = build_data(key, true_model, d, n_test_envs, intv_scale, n)\n",
    "\n",
    "\n",
    "model = build_model(model_hidden_size, model_activation, epsilon, gamma, n_samples_burnin)\n",
    "key, model = fit_model(key, model, datasets, targets, intv_param, bandwidth, steps, estimator,\n",
    "                       reg, learning_rate, weight_decay, scale)"
   ]
  },
  {
   "cell_type": "code",
   "execution_count": 5,
   "id": "87152e9f-aafd-465e-943f-5218198e0a8e",
   "metadata": {},
   "outputs": [
    {
     "name": "stdout",
     "output_type": "stream",
     "text": [
      "[0.5466296  1.2692306  0.52569604 1.7351635  1.0973209  0.7191797\n",
      " 0.67373115 0.73045534 1.58702    0.5257625 ]\n",
      "0.9410189 0.42960477\n"
     ]
    }
   ],
   "source": [
    "wds, mean, std = assess_model_mean(key, model, n_test_envs, test_intv_param, test_datasets, n)\n",
    "print(wds)\n",
    "print(mean, std)"
   ]
  },
  {
   "cell_type": "code",
   "execution_count": 6,
   "id": "7118e023-269f-4c80-b123-bb09c491e1c0",
   "metadata": {},
   "outputs": [
    {
     "name": "stdout",
     "output_type": "stream",
     "text": [
      "[0.3858452  0.00502397 0.97718513 0.19844022 0.06330224 0.18185687\n",
      " 0.04139787 0.37095636 0.17149703 0.00942712]\n",
      "0.24049321 0.27761534\n"
     ]
    }
   ],
   "source": [
    "wds, mean, std = assess_model_mean(key, true_model, n_test_envs, test_intv_param, test_datasets, n)\n",
    "print(wds)\n",
    "print(mean, std)"
   ]
  },
  {
   "cell_type": "code",
   "execution_count": 7,
   "id": "b39cf418-d344-4cf4-a89c-1672f99d2844",
   "metadata": {},
   "outputs": [
    {
     "name": "stdout",
     "output_type": "stream",
     "text": [
      "[0.9499201 2.2785554 1.1805704 3.6855989 1.9508778 1.582548  1.1744727\n",
      " 1.2682976 2.9092863 0.9327633]\n",
      "1.791289 0.87273854\n",
      "[0.63952374 0.06975785 2.1418588  0.38957444 0.15392148 0.42535296\n",
      " 0.11243368 0.6065094  0.3154815  0.07226531]\n",
      "0.4926679 0.584451\n"
     ]
    }
   ],
   "source": [
    "#W2\n",
    "wds, mean, std = assess_model(key, model, n_test_envs, test_intv_param, test_datasets, n, ot_epsilon = 0.2)\n",
    "print(wds)\n",
    "print(mean, std)\n",
    "\n",
    "wds, mean, std = assess_model(key, true_model, n_test_envs, test_intv_param, test_datasets, n, ot_epsilon = 0.2)\n",
    "print(wds)\n",
    "print(mean, std)"
   ]
  },
  {
   "cell_type": "code",
   "execution_count": 8,
   "id": "8d703748-1806-422f-ad04-0a2732abe30d",
   "metadata": {},
   "outputs": [],
   "source": [
    "#s:0.5363229 0.24096417\n",
    "#s2:0.90338963 0.43753132\n",
    "#l:0.9410189 0.42960477\n",
    "#l2:1.791289 0.87273854\n",
    "#t:0.24049321 0.27761534\n",
    "#t2:0.4926679 0.584451"
   ]
  },
  {
   "cell_type": "code",
   "execution_count": 9,
   "id": "7eb9135c-98e7-4914-a4c7-a8dfe293cf5b",
   "metadata": {},
   "outputs": [],
   "source": [
    "#s:\n",
    "#s2:\n",
    "#l:\n",
    "#l2:\n",
    "#t:\n",
    "#t2:"
   ]
  },
  {
   "cell_type": "code",
   "execution_count": 10,
   "id": "3ad2ca24-03c6-4ea9-9463-1664f65bbff5",
   "metadata": {},
   "outputs": [],
   "source": [
    "#s:\n",
    "#s2:\n",
    "#l:\n",
    "#l2:\n",
    "#t:\n",
    "#t2:"
   ]
  },
  {
   "cell_type": "code",
   "execution_count": 11,
   "id": "b71dd4f2-0aa6-46f3-9102-0f06b6643059",
   "metadata": {},
   "outputs": [
    {
     "data": {
      "image/png": "[encoded data removed]",
      "text/plain": [
       "<Figure size 640x480 with 6 Axes>"
      ]
     },
     "metadata": {},
     "output_type": "display_data"
    }
   ],
   "source": [
    "import matplotlib.pyplot as plt\n",
    "%matplotlib inline\n",
    "import seaborn as sns\n",
    "\n",
    "if d == 2:\n",
    "\n",
    "    total = 3\n",
    "\n",
    "    pred_datasets = []\n",
    "    for k in range(total):\n",
    "        local_intv_param = intv_param.index_at(k)\n",
    "        key, subk = random.split(key)\n",
    "        data = model.sample(subk, n_samples = n, intv_param = local_intv_param)\n",
    "        pred_datasets.append(data)\n",
    "\n",
    "    fig, axes = plt.subplots(nrows=total,ncols=2,sharex=True, sharey=True)\n",
    "\n",
    "    \n",
    "    for k in range(total):\n",
    "    \n",
    "        x = datasets[k][:,0]\n",
    "        y = datasets[k][:,1]\n",
    "        sns.kdeplot(x=x, y=y, ax = axes[k,0], fill=True,cmap=\"Purples_r\")\n",
    "        axes[k,0].set_title(f\"True model on training env {k}\")\n",
    "        \n",
    "        x = pred_datasets[k][:,0]\n",
    "        y = pred_datasets[k][:,1]\n",
    "        sns.kdeplot(x=x, y=y, ax = axes[k,1], fill=True,cmap=\"Purples_r\")\n",
    "        axes[k,1].set_title(f\"Trained model on training env {k}\")\n",
    "\n",
    "    plt.tight_layout()\n",
    "    plt.show()\n"
   ]
  },
  {
   "cell_type": "code",
   "execution_count": 12,
   "id": "086d3371-7859-40aa-81e4-831e1ac25083",
   "metadata": {},
   "outputs": [
    {
     "data": {
      "image/png": "[encoded data removed]",
      "text/plain": [
       "<Figure size 640x480 with 6 Axes>"
      ]
     },
     "metadata": {},
     "output_type": "display_data"
    }
   ],
   "source": [
    "if d == 2:\n",
    "\n",
    "    total = 3\n",
    "\n",
    "    pred_test_datasets = []\n",
    "    for k in range(total):\n",
    "        local_intv_param = test_intv_param.index_at(k)\n",
    "        key, subk = random.split(key)\n",
    "        data = model.sample(subk, n_samples = n, intv_param = local_intv_param)\n",
    "        pred_test_datasets.append(data)\n",
    "\n",
    "    fig, axes = plt.subplots(nrows=total,ncols=2,sharex=True, sharey=True)\n",
    "\n",
    "    for k in range(total):\n",
    "    \n",
    "        x = test_datasets[k][:,0]\n",
    "        y = test_datasets[k][:,1]\n",
    "        sns.kdeplot(x=x, y=y, ax = axes[k,0], fill=True,cmap=\"Purples_r\")\n",
    "        axes[k,0].set_title(f\"True model on test env {k}\")\n",
    "        \n",
    "        x = pred_test_datasets[k][:,0]\n",
    "        y = pred_test_datasets[k][:,1]\n",
    "        sns.kdeplot(x=x, y=y, ax = axes[k,1], fill=True,cmap=\"Purples_r\")\n",
    "        axes[k,1].set_title(f\"Trained model on test env {k}\")\n",
    "\n",
    "    plt.tight_layout()\n",
    "    plt.show()"
   ]
  },
  {
   "cell_type": "code",
   "execution_count": 13,
   "id": "ba149cfd-27b2-4ff0-9432-c9b972772b93",
   "metadata": {},
   "outputs": [
    {
     "name": "stdout",
     "output_type": "stream",
     "text": [
      "ModelParameters\n",
      "{'A': Array([[ 1.22507650e-03, -5.15668932e-03, -9.65224928e-04,\n",
      "        -3.05810652e-04, -9.33930045e-04,  1.59354426e-03,\n",
      "         1.39112060e-03, -3.63584096e-03,  9.27538553e-04,\n",
      "         1.30885269e-03,  1.94516289e-03,  3.00244195e-03,\n",
      "         1.08995533e-03, -5.72827703e-04,  2.42177723e-03,\n",
      "         6.16197765e-04, -1.78697170e-03,  9.76744690e-04,\n",
      "        -3.51265166e-03, -2.04372453e-03],\n",
      "       [-5.44774719e-02, -7.04671666e-02, -7.76118264e-02,\n",
      "        -6.71536475e-02, -6.63456544e-02, -7.73131549e-02,\n",
      "        -7.93995783e-02, -8.63095298e-02, -6.50290400e-02,\n",
      "        -4.28007878e-02, -6.99141920e-02, -7.85480216e-02,\n",
      "        -7.85558671e-02, -8.61221179e-02, -7.40423873e-02,\n",
      "        -6.68110773e-02, -8.60565007e-02, -7.89693296e-02,\n",
      "        -8.70368034e-02, -7.02107474e-02],\n",
      "       [-5.98714463e-02, -8.24354589e-02, -5.56825884e-02,\n",
      "        -5.61081953e-02, -6.89130649e-02, -5.42322882e-02,\n",
      "        -4.32406068e-02, -7.98111632e-02, -6.56085610e-02,\n",
      "        -6.37920052e-02, -5.74973263e-02, -5.71091995e-02,\n",
      "        -5.14659286e-02, -7.87952319e-02, -6.70462549e-02,\n",
      "        -7.31903762e-02, -7.80930892e-02, -4.89638969e-02,\n",
      "        -7.98229873e-02, -7.42200911e-02],\n",
      "       [ 9.97882336e-02,  1.07071482e-01,  1.01869300e-01,\n",
      "         9.97435600e-02,  7.92469978e-02,  9.46249664e-02,\n",
      "         8.22501257e-02,  9.19347256e-02,  6.30619749e-02,\n",
      "         9.72995460e-02,  9.75507572e-02,  9.28151757e-02,\n",
      "         9.03245956e-02,  1.04341224e-01,  9.18134600e-02,\n",
      "         9.37952623e-02,  1.07094847e-01,  8.52110684e-02,\n",
      "         1.10713854e-01,  9.88353193e-02],\n",
      "       [-5.75430430e-02, -6.21143132e-02, -5.85433058e-02,\n",
      "        -5.51691987e-02, -5.28767407e-02, -5.82509860e-02,\n",
      "        -5.82403876e-02, -6.17987327e-02, -5.08978665e-02,\n",
      "        -5.13033606e-02, -5.50373569e-02, -5.26968762e-02,\n",
      "        -5.57479449e-02, -5.42726703e-02, -5.12612164e-02,\n",
      "        -5.14283478e-02, -5.22461906e-02, -5.19342311e-02,\n",
      "        -5.42159490e-02, -5.19419797e-02],\n",
      "       [-7.74253070e-01,  1.12594473e+00, -2.69034415e-01,\n",
      "        -5.74549735e-01, -8.29545021e-01, -6.33146346e-01,\n",
      "        -9.22355056e-01,  1.05275106e+00, -1.21957529e+00,\n",
      "        -1.10369551e+00, -3.33404839e-01, -7.12327540e-01,\n",
      "        -1.05911422e+00,  1.00365329e+00, -1.17659879e+00,\n",
      "         9.17185664e-01,  1.03283167e+00, -9.27009702e-01,\n",
      "         1.07624912e+00,  9.76274252e-01],\n",
      "       [ 3.92159708e-02,  4.33296375e-02,  4.98590581e-02,\n",
      "         4.09960188e-02,  4.56727594e-02,  4.36459705e-02,\n",
      "         4.42979001e-02,  3.93615142e-02,  4.67133671e-02,\n",
      "         5.21660969e-02,  4.69967835e-02,  3.37438844e-02,\n",
      "         4.62026857e-02,  3.95494774e-02,  5.48381396e-02,\n",
      "         5.05600907e-02,  5.09711131e-02,  4.59478945e-02,\n",
      "         5.18241152e-02,  4.58085909e-02],\n",
      "       [ 1.27177447e-01,  1.45724580e-01,  1.45508677e-01,\n",
      "         1.17727637e-01,  1.41618848e-01,  1.52328581e-01,\n",
      "         1.49863258e-01,  1.52655751e-01,  1.03099197e-01,\n",
      "         1.40173644e-01,  9.89986211e-02,  1.29274800e-01,\n",
      "         1.18533783e-01,  1.38801530e-01,  1.36074364e-01,\n",
      "         1.28191635e-01,  1.46352202e-01,  1.34823754e-01,\n",
      "         1.38871580e-01,  1.18995197e-01],\n",
      "       [-4.62568477e-02, -5.78591153e-02, -3.90628055e-02,\n",
      "        -6.83974028e-02, -2.94729304e-02, -3.68203148e-02,\n",
      "        -6.29642531e-02, -3.51863690e-02, -3.35374363e-02,\n",
      "        -5.84528744e-02, -3.53146754e-02, -7.67330751e-02,\n",
      "        -6.02975711e-02, -7.22007230e-02, -4.22166921e-02,\n",
      "        -7.74532408e-02, -3.91085483e-02, -3.55165266e-02,\n",
      "        -6.71773329e-02, -7.47517943e-02],\n",
      "       [-6.61003590e-01, -5.76289177e-01, -6.30683661e-01,\n",
      "        -5.55842459e-01, -4.48751360e-01, -4.04359996e-01,\n",
      "        -4.91777450e-01, -7.94294298e-01, -5.24022937e-01,\n",
      "        -5.62947035e-01, -6.65563762e-01, -2.62936771e-01,\n",
      "        -6.25269115e-01, -4.77578402e-01, -7.50710428e-01,\n",
      "        -4.73155290e-01, -6.13059819e-01, -7.17234552e-01,\n",
      "        -6.08523071e-01, -4.59071279e-01],\n",
      "       [-5.45310855e-01,  1.20547855e+00,  8.51535797e-01,\n",
      "         5.48521817e-01,  9.41441715e-01, -4.37927127e-01,\n",
      "        -3.89497042e-01,  8.26853156e-01, -5.19040167e-01,\n",
      "        -6.53950691e-01, -4.18377727e-01, -4.90301758e-01,\n",
      "        -3.11586976e-01, -4.04994518e-01, -1.18678987e+00,\n",
      "        -5.42264879e-01, -6.19307816e-01, -4.35536087e-01,\n",
      "         9.59784091e-01, -6.13338590e-01],\n",
      "       [-1.70042403e-02, -7.83106405e-03, -1.11351619e-02,\n",
      "        -2.00657547e-02, -2.35747024e-02, -1.29427128e-02,\n",
      "        -2.54457705e-02, -6.66927174e-03, -8.49901140e-03,\n",
      "        -1.99103989e-02, -1.96143035e-02, -2.53324322e-02,\n",
      "        -1.35103250e-02, -1.81972254e-02, -3.36238146e-02,\n",
      "        -8.24772380e-03, -1.81499943e-02, -2.01579630e-02,\n",
      "        -5.55727305e-03, -8.25036131e-03],\n",
      "       [ 3.80036324e-01,  4.12628084e-01,  4.17942226e-01,\n",
      "         3.82291168e-01, -2.32918173e-01,  4.55407083e-01,\n",
      "         4.23280954e-01,  4.58685160e-01, -3.86071533e-01,\n",
      "        -3.63814741e-01,  3.52646768e-01,  4.07987654e-01,\n",
      "         3.59556079e-01,  4.34202135e-01,  3.25423121e-01,\n",
      "        -3.61996919e-01, -2.59872019e-01,  4.22049671e-01,\n",
      "        -2.53500551e-01, -3.24367076e-01],\n",
      "       [ 3.83181795e-02,  3.69204916e-02,  3.18541154e-02,\n",
      "         5.03657795e-02,  5.18131405e-02,  4.59534079e-02,\n",
      "         4.58610430e-02,  3.64211760e-02,  4.58853357e-02,\n",
      "         3.50135341e-02,  3.15134674e-02,  4.25357185e-02,\n",
      "         3.93529162e-02,  3.91800217e-02,  5.10626286e-02,\n",
      "         3.68997939e-02,  4.97884639e-02,  4.14220467e-02,\n",
      "         4.27376777e-02,  2.51802225e-02],\n",
      "       [-7.26161078e-02, -9.68507826e-02, -7.65978768e-02,\n",
      "        -5.26219010e-02, -6.47775680e-02, -5.17538413e-02,\n",
      "        -7.30812475e-02, -7.66938627e-02, -5.74175045e-02,\n",
      "        -6.22697659e-02, -6.20188601e-02, -7.12149143e-02,\n",
      "        -6.80879727e-02, -8.50078985e-02, -4.71811928e-02,\n",
      "        -6.23073354e-02, -6.45513162e-02, -6.47899359e-02,\n",
      "        -7.44984150e-02, -7.06564486e-02],\n",
      "       [-2.46508066e-02, -9.47623998e-02, -2.72969808e-02,\n",
      "         5.97714446e-03,  1.92848966e-02,  9.06583965e-02,\n",
      "        -4.29923162e-02,  2.39807251e-03,  2.56594606e-02,\n",
      "        -2.43273638e-02,  1.73710310e-03, -3.53810638e-02,\n",
      "         2.82889493e-02,  3.78024280e-02,  1.13525853e-01,\n",
      "         7.60592222e-02, -5.72155416e-02, -2.45462060e-02,\n",
      "         6.05576253e-03, -8.97499919e-03]], dtype=float32),\n",
      " 'B': Array([[ 3.0415044 ,  3.254431  ,  3.145112  ,  2.9836478 ,  3.0816686 ,\n",
      "         2.5163417 ,  2.5272994 ,  3.1624153 ,  2.5526054 ,  2.4633224 ,\n",
      "         2.9295073 ,  2.9211376 ,  2.5657558 ,  3.022409  ,  2.8839493 ,\n",
      "         2.6604898 ,  3.1155186 ,  2.4776235 ,  3.1624417 ,  2.3226542 ],\n",
      "       [ 2.3461425 ,  2.7358136 ,  3.0892901 ,  2.7558863 ,  2.6724334 ,\n",
      "         3.0246897 ,  3.0852108 ,  3.1321788 ,  2.584619  ,  1.7918411 ,\n",
      "         2.8030372 ,  3.1061788 ,  3.025582  ,  3.0697756 ,  2.9393935 ,\n",
      "         2.5447059 ,  3.0372558 ,  3.0506518 ,  3.077685  ,  2.6198463 ],\n",
      "       [ 2.4401975 ,  2.8240676 ,  2.3490672 ,  2.3564086 ,  2.7324579 ,\n",
      "         2.3325605 ,  2.1101565 ,  2.7683632 ,  2.6573253 ,  2.5464017 ,\n",
      "         2.380119  ,  2.4218028 ,  2.26099   ,  2.7167764 ,  2.613017  ,\n",
      "         2.6645105 ,  2.724066  ,  2.213646  ,  2.7629251 ,  2.6396713 ],\n",
      "       [-2.9870672 , -2.9790592 , -3.0345454 , -2.9759266 , -2.6574898 ,\n",
      "        -2.9077363 , -2.6649945 , -2.762233  , -2.3404648 , -2.9813335 ,\n",
      "        -2.9397342 , -2.8907223 , -2.8218715 , -2.9138916 , -2.8645093 ,\n",
      "        -2.807156  , -2.9982321 , -2.7133896 , -3.0474303 , -2.8811686 ],\n",
      "       [ 3.0968912 ,  3.2394123 ,  3.1038065 ,  2.8742557 ,  3.13623   ,\n",
      "         3.043109  ,  3.1170588 ,  3.1932797 ,  3.049492  ,  3.0338867 ,\n",
      "         2.8931024 ,  2.748622  ,  2.883221  ,  2.758015  ,  2.8655846 ,\n",
      "         3.1019073 ,  3.136208  ,  2.6884255 ,  3.0874722 ,  3.096472  ],\n",
      "       [ 5.9823775 ,  1.5642653 ,  5.4663897 ,  5.78985   ,  6.1207676 ,\n",
      "         5.7126293 ,  6.152819  ,  1.4768409 ,  5.9804196 ,  6.104503  ,\n",
      "         5.03897   ,  5.890858  ,  6.146427  ,  1.4349557 ,  5.1977925 ,\n",
      "         1.338337  ,  1.4374366 ,  6.138506  ,  1.4757348 ,  1.3884549 ],\n",
      "       [-2.5605903 , -2.9253948 , -2.8617394 , -2.5793307 , -2.560609  ,\n",
      "        -2.9218092 , -2.8936517 , -2.6553454 , -2.584644  , -2.8531947 ,\n",
      "        -2.8842547 , -2.4527318 , -2.883085  , -2.6071496 , -2.7747912 ,\n",
      "        -2.7826948 , -2.844263  , -2.876993  , -2.8720715 , -2.5248363 ],\n",
      "       [-2.8915102 , -3.1804519 , -3.1082726 , -2.797723  , -3.0881636 ,\n",
      "        -3.1003683 , -3.0899522 , -3.1830933 , -2.5624397 , -3.0398006 ,\n",
      "        -2.4991326 , -2.8891819 , -2.774716  , -3.002011  , -2.9237154 ,\n",
      "        -2.9090908 , -3.1183312 , -2.9641695 , -3.0758917 , -2.8136232 ],\n",
      "       [ 2.9353616 ,  3.253933  ,  2.9194784 ,  3.0753467 ,  2.7743487 ,\n",
      "         2.847589  ,  3.0046203 ,  2.943229  ,  2.7716894 ,  2.9431875 ,\n",
      "         2.8447177 ,  3.0702438 ,  2.9960012 ,  3.0670087 ,  2.7594671 ,\n",
      "         3.0324922 ,  2.8801897 ,  2.8457606 ,  3.0649269 ,  3.0329702 ],\n",
      "       [-4.392957  , -4.3332295 , -4.5046864 , -4.365456  , -4.3001485 ,\n",
      "        -4.2345867 , -4.214444  , -4.5077066 , -4.2242694 , -4.269573  ,\n",
      "        -4.393822  , -3.8381205 , -4.2912607 , -4.1944227 , -4.400724  ,\n",
      "        -4.17477   , -4.4172707 , -4.437597  , -4.501079  , -4.1869173 ],\n",
      "       [-5.7605996 , -0.5670878 ,  6.391086  ,  5.870667  ,  6.7834888 ,\n",
      "        -5.6180305 , -5.364355  , -0.52485764, -5.462092  , -5.96452   ,\n",
      "        -5.4273114 , -5.8599606 , -4.922835  , -5.2677565 ,  1.0423858 ,\n",
      "        -5.3839993 , -5.9067736 , -5.392594  ,  6.8408895 , -5.7427945 ],\n",
      "       [ 2.738601  ,  3.185672  ,  2.481382  ,  2.926835  ,  2.9533443 ,\n",
      "         2.475016  ,  2.9723914 ,  2.9043086 ,  1.9664036 ,  2.7682467 ,\n",
      "         2.8368196 ,  2.962747  ,  2.5276453 ,  2.9983685 ,  2.821172  ,\n",
      "         2.3951325 ,  2.967143  ,  2.85377   ,  2.3892703 ,  2.4466443 ],\n",
      "       [ 2.7269917 ,  2.6458404 ,  3.1240013 ,  2.5221243 , -1.3303891 ,\n",
      "         3.3765092 ,  3.0494442 ,  2.5374324 , -1.2302684 , -1.1883928 ,\n",
      "         2.7032523 ,  3.2848394 ,  2.6638932 ,  2.8958669 ,  2.4944165 ,\n",
      "        -1.1851679 , -1.1849506 ,  2.9649932 , -1.1286427 , -1.1471691 ],\n",
      "       [-2.9372065 , -3.1324594 , -2.916423  , -3.0931692 , -3.0737343 ,\n",
      "        -3.0039883 , -3.0108037 , -3.0665376 , -2.943517  , -2.869256  ,\n",
      "        -2.868016  , -2.9733424 , -2.9301035 , -3.0036654 , -2.9755082 ,\n",
      "        -2.9064243 , -3.0781772 , -2.976554  , -3.0668623 , -2.836581  ],\n",
      "       [ 3.065045  ,  3.0326886 ,  3.1728675 ,  2.1718938 ,  3.0172582 ,\n",
      "         2.1407197 ,  3.0000277 ,  2.5511165 ,  3.0017588 ,  2.8089287 ,\n",
      "         2.486027  ,  3.0812943 ,  2.6734495 ,  3.076405  ,  2.9801242 ,\n",
      "         2.4891417 ,  2.4840415 ,  2.5652068 ,  2.7129037 ,  2.7202647 ],\n",
      "       [ 2.1452732 ,  2.557998  ,  1.884523  ,  3.3484156 ,  3.4592192 ,\n",
      "         3.10913   ,  2.8779428 ,  3.4385061 ,  3.018121  ,  2.2427447 ,\n",
      "         3.0851135 ,  2.3788924 ,  3.0956664 ,  2.912852  ,  3.1168604 ,\n",
      "         3.130904  ,  2.3037753 ,  2.1848867 ,  3.6976385 ,  3.4512844 ]],      dtype=float32),\n",
      " 'c': Array([-1.0863832 ,  0.29036942, -0.69448626, -0.8756804 , -1.2563341 ,\n",
      "       -1.1178949 , -1.1560783 , -0.24273999, -1.7412959 , -1.5765852 ,\n",
      "       -1.1374817 , -1.1089967 , -1.2712036 , -0.8206542 , -2.2125401 ,\n",
      "       -1.4235035 , -0.97666156, -1.1291337 , -0.7242672 , -1.2611393 ],      dtype=float32),\n",
      " 'd': Array([-1.35937445e-02, -7.42889754e-03,  1.28259715e-02, -1.09744975e-02,\n",
      "       -1.37160039e-02, -3.50778282e-01, -8.54738243e-03, -9.77690611e-03,\n",
      "       -2.41069752e-03, -1.06521532e-01,  4.55265880e-01, -2.68494477e-04,\n",
      "        1.63322091e-01, -8.59325379e-03, -1.24988976e-04, -4.25051376e-02],      dtype=float32),\n",
      " 'log_reversion': Array([ 1.1264886, -0.5401293], dtype=float32),\n",
      " 'mlp_0': Array([[ 2.3688625e-03,  1.9030710e-01,  2.7765447e-01, -1.5939263e-01,\n",
      "         1.6399062e-01, -1.6583874e+00, -2.5257623e-01, -2.2428563e-02,\n",
      "         1.3868077e-01, -1.5193480e+00, -2.8162935e+00,  9.4949104e-02,\n",
      "        -1.7877661e-01, -3.2630909e-02,  2.4831997e-01,  1.5587798e-01],\n",
      "       [ 1.5463802e+00,  1.2902997e+00,  1.9202365e+00, -1.2895782e+00,\n",
      "         1.6405817e+00, -8.3110350e-01, -1.8193268e+00, -7.9223621e-01,\n",
      "         2.0408914e+00, -5.5704653e-01,  3.3169034e+00,  8.7213391e-01,\n",
      "         4.5880938e+00, -1.8313993e+00,  1.0799906e+00,  1.5090750e+00]],      dtype=float32),\n",
      " 'mlp_1': Array([[ 3.46124545e-02, -6.94423867e-03],\n",
      "       [-8.24042223e-03, -1.53236715e-02],\n",
      "       [-1.43027054e-02, -3.20782012e-04],\n",
      "       [ 9.71300900e-03,  4.85822093e-03],\n",
      "       [ 4.95530255e-02,  2.09551062e-02],\n",
      "       [ 1.17373431e+00,  4.05433565e-01],\n",
      "       [-4.70731128e-03, -2.55300687e-03],\n",
      "       [ 2.13369203e-05,  4.65121921e-05],\n",
      "       [ 5.67980018e-03,  3.81634035e-03],\n",
      "       [ 6.35900915e-01,  1.96975529e-01],\n",
      "       [-9.53940094e-01, -3.07911839e-02],\n",
      "       [-8.99794031e-05, -1.03590610e-04],\n",
      "       [ 1.53054103e-01, -4.18678820e-01],\n",
      "       [-7.67353736e-03, -3.24395089e-03],\n",
      "       [-6.91180248e-05,  6.97897704e-05],\n",
      "       [ 6.18949607e-02,  9.77946222e-02]], dtype=float32),\n",
      " 'mlp_b_0': Array([-2.9271047 , -3.1517982 , -3.044265  ,  2.9018817 , -3.1939986 ,\n",
      "       -2.7611167 ,  2.8178468 ,  3.2846606 , -3.1928945 ,  1.6263145 ,\n",
      "       -0.20663483, -3.2395792 , -0.07239387,  3.220161  , -3.4549074 ,\n",
      "       -2.644402  ], dtype=float32)}\n"
     ]
    }
   ],
   "source": [
    "print(model.param)"
   ]
  },
  {
   "cell_type": "code",
   "execution_count": 14,
   "id": "9eb6bf71-89ba-4ac6-8191-8c7348e976d9",
   "metadata": {},
   "outputs": [
    {
     "name": "stdout",
     "output_type": "stream",
     "text": [
      "ModelParameters\n",
      "{'log_reversion': Array([0., 0.], dtype=float32),\n",
      " 'mlp_0': Array([[1., 0.],\n",
      "       [0., 1.]], dtype=float32),\n",
      " 'mlp_1': Array([[1., 0.],\n",
      "       [0., 1.]], dtype=float32),\n",
      " 'mlp_b_0': Array([-0.,  0.], dtype=float32)}\n"
     ]
    }
   ],
   "source": [
    "print(true_model.param)"
   ]
  },
  {
   "cell_type": "code",
   "execution_count": null,
   "id": "8d2054db-6508-4ba8-8417-49fe6b43537e",
   "metadata": {},
   "outputs": [],
   "source": []
  }
 ],
 "metadata": {
  "kernelspec": {
   "display_name": "Python 3 (ipykernel)",
   "language": "python",
   "name": "python3"
  },
  "language_info": {
   "codemirror_mode": {
    "name": "ipython",
    "version": 3
   },
   "file_extension": ".py",
   "mimetype": "text/x-python",
   "name": "python",
   "nbconvert_exporter": "python",
   "pygments_lexer": "ipython3",
   "version": "3.11.2"
  }
 },
 "nbformat": 4,
 "nbformat_minor": 5
}
