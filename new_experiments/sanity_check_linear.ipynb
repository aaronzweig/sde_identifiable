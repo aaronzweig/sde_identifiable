{
 "cells": [
  {
   "cell_type": "code",
   "execution_count": 2,
   "id": "1f3f5439-b763-444e-9e61-96147ca2e66e",
   "metadata": {},
   "outputs": [
    {
     "name": "stderr",
     "output_type": "stream",
     "text": [
      "2025-01-26 16:51:02.203673: E external/local_xla/xla/stream_executor/cuda/cuda_fft.cc:485] Unable to register cuFFT factory: Attempting to register factory for plugin cuFFT when one has already been registered\n",
      "2025-01-26 16:51:02.214953: E external/local_xla/xla/stream_executor/cuda/cuda_dnn.cc:8454] Unable to register cuDNN factory: Attempting to register factory for plugin cuDNN when one has already been registered\n",
      "2025-01-26 16:51:02.218282: E external/local_xla/xla/stream_executor/cuda/cuda_blas.cc:1452] Unable to register cuBLAS factory: Attempting to register factory for plugin cuBLAS when one has already been registered\n",
      "2025-01-26 16:51:02.791636: W tensorflow/compiler/tf2tensorrt/utils/py_utils.cc:38] TF-TRT Warning: Could not find TensorRT\n"
     ]
    }
   ],
   "source": [
    "from jax import random, numpy as jnp\n",
    "from stadion.models import LinearSDE, MLPSDE\n",
    "from pprint import pprint\n",
    "from stadion import kds_loss\n",
    "from scipy.linalg import solve_continuous_lyapunov\n",
    "import numpy as onp"
   ]
  },
  {
   "cell_type": "code",
   "execution_count": 3,
   "id": "59cdb226-1024-4bfb-b98d-4f30225c96fe",
   "metadata": {},
   "outputs": [],
   "source": [
    "from nn import NNSDE"
   ]
  },
  {
   "cell_type": "code",
   "execution_count": 3,
   "id": "8de9ee6e-6347-4677-9242-84a8b45de8ef",
   "metadata": {},
   "outputs": [],
   "source": [
    "n = 20000\n",
    "d = 5\n",
    "r = 2\n",
    "n_envs = 2\n",
    "epsilon = 0.2\n",
    "gamma = 0.95\n",
    "activation = \"linear\"\n",
    "n_samples_burnin=200"
   ]
  },
  {
   "cell_type": "code",
   "execution_count": 4,
   "id": "c3835097-2481-4b81-97c0-319e2e815d94",
   "metadata": {},
   "outputs": [
    {
     "name": "stderr",
     "output_type": "stream",
     "text": [
      "WARNING:2025-01-24 12:38:21,356:jax._src.xla_bridge:987: An NVIDIA GPU may be present on this machine, but a CUDA-enabled jaxlib is not installed. Falling back to cpu.\n"
     ]
    }
   ],
   "source": [
    "key = random.PRNGKey(3)\n",
    "true_model = NNSDE(\n",
    "    hidden_size = r,\n",
    "    activation=activation,\n",
    "    epsilon=epsilon,\n",
    "    gamma=gamma,\n",
    "    sde_kwargs = {\"n_samples_burnin\": n_samples_burnin})\n",
    "true_model.n_vars = d\n",
    "\n",
    "key, subk = random.split(key)\n",
    "param = true_model.init_param(subk, d, scale=0.1)\n",
    "param[\"mlp_b_0\"] = 0 #No bias terms\n",
    "true_model.param = param\n",
    "\n",
    "targets = [jnp.zeros(d)]\n",
    "for k in range(n_envs-1):\n",
    "    target = jnp.array([0] * d)\n",
    "    target = target.at[k].add(1)\n",
    "    targets.append(target)\n",
    "\n",
    "key, subk = random.split(key)\n",
    "true_intv_param = true_model.init_intv_param(subk, d = d, scale=1.0, n_envs = n_envs, targets = targets)\n",
    "\n",
    "datasets = []\n",
    "for k in range(n_envs):\n",
    "    local_intv_param = true_intv_param.index_at(k)\n",
    "    key, subk = random.split(key)\n",
    "    data = true_model.sample(subk, n_samples = n, intv_param = local_intv_param)\n",
    "    datasets.append(data)"
   ]
  },
  {
   "cell_type": "code",
   "execution_count": 5,
   "id": "0f5a7712-b1e3-4333-8494-6fa2fad3a485",
   "metadata": {},
   "outputs": [
    {
     "name": "stdout",
     "output_type": "stream",
     "text": [
      "(5, 2) (2, 5) (5, 5)\n"
     ]
    }
   ],
   "source": [
    "B = param[\"mlp_0\"].T\n",
    "A = param[\"mlp_1\"].T\n",
    "D = jnp.diag(jnp.exp(param[\"log_reversion\"]))\n",
    "print(A.shape, B.shape, D.shape)\n",
    "L = true_model.gamma * A @ B - D"
   ]
  },
  {
   "cell_type": "code",
   "execution_count": 6,
   "id": "3c5e9775-f1d1-4166-9f33-9883517ecbd4",
   "metadata": {},
   "outputs": [
    {
     "name": "stdout",
     "output_type": "stream",
     "text": [
      "[[-1.8866414  -0.096493   -0.27212825  1.1807656   0.4480015 ]\n",
      " [-0.42910784 -0.8657925   0.40399036 -1.6426626   0.47038716]\n",
      " [ 1.3701317  -1.8162863  -2.7622209  -0.60249746  0.16114491]]\n",
      "[[-1.8866413  -0.09649301 -0.27212825  1.1807656   0.4480015 ]\n",
      " [-0.4291079  -0.8657925   0.4039903  -1.6426628   0.47038713]\n",
      " [ 1.3701317  -1.8162866  -2.7622209  -0.60249746  0.16114487]]\n"
     ]
    }
   ],
   "source": [
    "### Validate this is the correct drift?\n",
    "key, subk = random.split(key)\n",
    "x = random.normal(subk, shape=(3,d))\n",
    "out_1 = true_model.f(x, param, None)\n",
    "out_2 = x @ L.T\n",
    "print(out_1)\n",
    "print(out_2)"
   ]
  },
  {
   "cell_type": "code",
   "execution_count": 7,
   "id": "cb87d83e-fc1a-4b2b-a02e-1ca99cc5cc47",
   "metadata": {},
   "outputs": [
    {
     "name": "stdout",
     "output_type": "stream",
     "text": [
      "Array([-1.1312785 ,  0.14686859,  0.10555197, -0.09656211,  0.00597531],      dtype=float32)\n",
      "Array([-1.1330327 ,  0.14876719,  0.10617722, -0.09877131,  0.00640062],      dtype=float32)\n"
     ]
    },
    {
     "data": {
      "image/png": "[encoded data removed]",
      "text/plain": [
       "<Figure size 640x480 with 2 Axes>"
      ]
     },
     "metadata": {},
     "output_type": "display_data"
    }
   ],
   "source": [
    "import matplotlib.pyplot as plt\n",
    "%matplotlib inline\n",
    "\n",
    "data = datasets[1]\n",
    "mean = jnp.mean(data, axis = 0)\n",
    "cov = jnp.cov(data, rowvar=False)\n",
    "\n",
    "c = true_intv_param.index_at(1)[\"shift\"]\n",
    "L_inv = jnp.linalg.inv(L)\n",
    "mean_true = -L_inv @ c\n",
    "Q = epsilon * onp.identity(d)\n",
    "cov_true = solve_continuous_lyapunov(L, -Q @ Q.T)\n",
    "\n",
    "pprint(mean)\n",
    "pprint(mean_true)\n",
    "fig, (ax1, ax2) = plt.subplots(1, 2)\n",
    "ax1.imshow(cov)\n",
    "ax2.imshow(cov_true)\n",
    "plt.show()"
   ]
  },
  {
   "cell_type": "code",
   "execution_count": 7,
   "id": "5ae08881-e8cc-4d01-86f9-9d18793c3d5a",
   "metadata": {},
   "outputs": [
    {
     "data": {
      "text/plain": [
       "<matplotlib.collections.PathCollection at 0x7f6eb03f3350>"
      ]
     },
     "execution_count": 7,
     "metadata": {},
     "output_type": "execute_result"
    },
    {
     "data": {
      "image/png": "[encoded data removed]",
      "text/plain": [
       "<Figure size 640x480 with 1 Axes>"
      ]
     },
     "metadata": {},
     "output_type": "display_data"
    }
   ],
   "source": [
    "import jax\n",
    "import matplotlib.pyplot as plt\n",
    "%matplotlib inline\n",
    "\n",
    "# cursed = lambda arr: 0.5 * jax.nn.leaky_relu(arr) + 0.5 * jax.nn.leaky_relu(arr - 1)\n",
    "cursed = lambda arr: \n",
    "cursed = lambda arr: 1.0/3.0 * (jax.nn.leaky_relu(arr, 0.1) + jax.nn.leaky_relu(arr - 1, 0.2) + jax.nn.leaky_relu(arr + 1, 0.3))\n",
    "xs = jnp.linspace(-2, 2, num=50)\n",
    "plt.scatter(xs, cursed(xs))"
   ]
  },
  {
   "cell_type": "code",
   "execution_count": null,
   "id": "3b7a205c-1142-4d5c-8756-7e4cbb30d8f3",
   "metadata": {},
   "outputs": [],
   "source": []
  }
 ],
 "metadata": {
  "kernelspec": {
   "display_name": "Python 3 (ipykernel)",
   "language": "python",
   "name": "python3"
  },
  "language_info": {
   "codemirror_mode": {
    "name": "ipython",
    "version": 3
   },
   "file_extension": ".py",
   "mimetype": "text/x-python",
   "name": "python",
   "nbconvert_exporter": "python",
   "pygments_lexer": "ipython3",
   "version": "3.11.2"
  }
 },
 "nbformat": 4,
 "nbformat_minor": 5
}
