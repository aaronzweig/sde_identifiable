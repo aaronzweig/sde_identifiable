{
 "cells": [
  {
   "cell_type": "code",
   "execution_count": 1,
   "id": "1f3f5439-b763-444e-9e61-96147ca2e66e",
   "metadata": {},
   "outputs": [
    {
     "name": "stderr",
     "output_type": "stream",
     "text": [
      "2025-01-19 11:07:05.296680: E external/local_xla/xla/stream_executor/cuda/cuda_fft.cc:485] Unable to register cuFFT factory: Attempting to register factory for plugin cuFFT when one has already been registered\n",
      "2025-01-19 11:07:05.306443: E external/local_xla/xla/stream_executor/cuda/cuda_dnn.cc:8454] Unable to register cuDNN factory: Attempting to register factory for plugin cuDNN when one has already been registered\n",
      "2025-01-19 11:07:05.309410: E external/local_xla/xla/stream_executor/cuda/cuda_blas.cc:1452] Unable to register cuBLAS factory: Attempting to register factory for plugin cuBLAS when one has already been registered\n",
      "2025-01-19 11:07:05.843069: W tensorflow/compiler/tf2tensorrt/utils/py_utils.cc:38] TF-TRT Warning: Could not find TensorRT\n"
     ]
    }
   ],
   "source": [
    "from jax import random, numpy as jnp\n",
    "from stadion.models import LinearSDE, MLPSDE\n",
    "from pprint import pprint\n",
    "from stadion import kds_loss\n",
    "from scipy.linalg import solve_continuous_lyapunov\n",
    "import numpy as onp\n",
    "import matplotlib.pyplot as plt\n",
    "%matplotlib inline"
   ]
  },
  {
   "cell_type": "code",
   "execution_count": 2,
   "id": "59cdb226-1024-4bfb-b98d-4f30225c96fe",
   "metadata": {},
   "outputs": [],
   "source": [
    "from nn import NNSDE"
   ]
  },
  {
   "cell_type": "code",
   "execution_count": 3,
   "id": "3ed6878e-c87a-416a-836b-b6940ba6e468",
   "metadata": {},
   "outputs": [],
   "source": [
    "def extract_matrices(param):\n",
    "    B = param[\"mlp_0\"].T\n",
    "    A = param[\"mlp_1\"].T\n",
    "    D = jnp.diag(jnp.exp(param[\"log_reversion\"]))\n",
    "\n",
    "    return B, A, D\n",
    "\n",
    "def extract_linear_drift(param):\n",
    "    B, A, D = extract_matrices(param)\n",
    "    return param[\"gamma\"] * A @ B - D"
   ]
  },
  {
   "cell_type": "code",
   "execution_count": 4,
   "id": "8de9ee6e-6347-4677-9242-84a8b45de8ef",
   "metadata": {},
   "outputs": [],
   "source": [
    "n = 50000\n",
    "d = 10\n",
    "r = 2\n",
    "n_envs = 4\n",
    "epsilon = 0.5\n",
    "gamma = 0.9\n",
    "activation = \"linear\""
   ]
  },
  {
   "cell_type": "code",
   "execution_count": 5,
   "id": "c3835097-2481-4b81-97c0-319e2e815d94",
   "metadata": {},
   "outputs": [
    {
     "name": "stderr",
     "output_type": "stream",
     "text": [
      "An NVIDIA GPU may be present on this machine, but a CUDA-enabled jaxlib is not installed. Falling back to cpu.\n"
     ]
    }
   ],
   "source": [
    "key = random.PRNGKey(8)\n",
    "true_model = NNSDE(\n",
    "    hidden_size = r, \n",
    "    activation=activation,\n",
    "    epsilon = epsilon,\n",
    "    gamma = gamma)\n",
    "true_model.n_vars = d\n",
    "\n",
    "key, subk = random.split(key)\n",
    "param = true_model.init_param(subk, d, scale=0.1)\n",
    "true_model.param = param\n",
    "\n",
    "#One-hot learned intervention mode\n",
    "targets = [jnp.zeros(d)]\n",
    "for k in range(n_envs-1):\n",
    "    target = jnp.array([0] * d)\n",
    "    target = target.at[k].add(1)\n",
    "    targets.append(target)\n",
    "\n",
    "key, subk = random.split(key)\n",
    "true_intv_param = true_model.init_intv_param(subk, d = d, scale=1.0, n_envs = n_envs, targets = targets)\n",
    "\n",
    "datasets = []\n",
    "for k in range(n_envs):\n",
    "    local_intv_param = true_intv_param.index_at(k)\n",
    "    key, subk = random.split(key)\n",
    "    data = true_model.sample(subk, n_samples = n, intv_param = local_intv_param)\n",
    "    datasets.append(data)"
   ]
  },
  {
   "cell_type": "code",
   "execution_count": 6,
   "id": "8357bd8c-8b49-401c-b31d-543981035838",
   "metadata": {},
   "outputs": [
    {
     "name": "stderr",
     "output_type": "stream",
     "text": [
      "WARNING: All log messages before absl::InitializeLog() is called are written to STDERR\n",
      "I0000 00:00:1737302863.148041  573612 cuda_executor.cc:1015] successful NUMA node read from SysFS had negative value (-1), but there must be at least one NUMA node, so returning NUMA node zero. See more at https://github.com/torvalds/linux/blob/v6.0/Documentation/ABI/testing/sysfs-bus-pci#L344-L355\n",
      "2025-01-19 11:07:43.179937: W tensorflow/core/common_runtime/gpu/gpu_device.cc:2343] Cannot dlopen some GPU libraries. Please make sure the missing libraries mentioned above are installed properly if you would like to use GPU. Follow the guide at https://www.tensorflow.org/install/gpu for how to download and setup the required libraries for your platform.\n",
      "Skipping registering GPU devices...\n"
     ]
    },
    {
     "name": "stdout",
     "output_type": "stream",
     "text": [
      "step:  1000 kds:     0.000958  | min remain:  0.5  sec/step: 0.004\n",
      "step:  2000 kds:     0.000177  | min remain:  0.2  sec/step: 0.002\n",
      "step:  3000 kds:    -0.000062  | min remain:  0.2  sec/step: 0.002\n",
      "step:  4000 kds:     0.000170  | min remain:  0.2  sec/step: 0.002\n",
      "step:  5000 kds:    -0.000002  | min remain:  0.1  sec/step: 0.002\n",
      "step:  6000 kds:     0.000099  | min remain:  0.1  sec/step: 0.002\n",
      "step:  7000 kds:     0.000387  | min remain:  0.1  sec/step: 0.002\n",
      "step:  8000 kds:    -0.000125  | min remain:  0.1  sec/step: 0.002\n",
      "step:  9000 kds:     0.000351  | min remain:  0.0  sec/step: 0.002\n",
      "step: 10000 kds:     0.000220  | min remain:  0.0  sec/step: 0.002\n"
     ]
    },
    {
     "data": {
      "text/plain": [
       "<nn.NNSDE at 0x7f82bc64fad0>"
      ]
     },
     "execution_count": 6,
     "metadata": {},
     "output_type": "execute_result"
    }
   ],
   "source": [
    "model = NNSDE(\n",
    "    hidden_size=r, \n",
    "    activation=activation,\n",
    "    epsilon=epsilon,\n",
    "    gamma=gamma)\n",
    "key, subk = random.split(key)\n",
    "model.fit(\n",
    "    subk,\n",
    "    x=datasets,\n",
    "    targets=targets,\n",
    "    bandwidth = 3.0,\n",
    ")"
   ]
  },
  {
   "cell_type": "code",
   "execution_count": 7,
   "id": "82891b7a-b8b4-42a5-a1b5-7ecb055a4d95",
   "metadata": {},
   "outputs": [
    {
     "name": "stdout",
     "output_type": "stream",
     "text": [
      "Array([[-0.967, -0.022, -0.023,  0.054, -0.001, -0.   , -0.008, -0.08 ,\n",
      "        -0.051, -0.053],\n",
      "       [-0.109, -1.008,  0.036, -0.068,  0.001,  0.01 , -0.008,  0.111,\n",
      "         0.049,  0.072],\n",
      "       [ 0.153, -0.017, -1.055,  0.089, -0.002, -0.041,  0.06 , -0.173,\n",
      "        -0.017, -0.107],\n",
      "       [ 0.119, -0.039, -0.028, -0.946, -0.001,  0.011, -0.032, -0.109,\n",
      "        -0.096, -0.075],\n",
      "       [-0.126,  0.039,  0.031, -0.085, -1.043, -0.009,  0.028,  0.117,\n",
      "         0.096,  0.08 ],\n",
      "       [ 0.021,  0.007, -0.016,  0.008, -0.001, -1.199,  0.036, -0.032,\n",
      "         0.027, -0.017],\n",
      "       [-0.06 ,  0.022,  0.011, -0.042,  0.   , -0.011, -0.968,  0.052,\n",
      "         0.058,  0.037],\n",
      "       [-0.02 , -0.021,  0.028, -0.001,  0.001,  0.044, -0.079, -1.032,\n",
      "        -0.072,  0.021],\n",
      "       [ 0.149, -0.04 , -0.042,  0.097, -0.001, -0.001, -0.013, -0.145,\n",
      "        -1.021, -0.096],\n",
      "       [ 0.074, -0.014, -0.026,  0.046, -0.001, -0.01 ,  0.011, -0.078,\n",
      "        -0.027, -0.979]], dtype=float32)\n",
      "Array([[-0.917, -0.025, -0.002,  0.117,  0.122,  0.089, -0.106, -0.118,\n",
      "        -0.144, -0.12 ],\n",
      "       [-0.106, -1.032,  0.041, -0.018,  0.121,  0.13 , -0.109, -0.019,\n",
      "        -0.03 ,  0.008],\n",
      "       [ 0.175, -0.086, -1.153,  0.109, -0.031, -0.068,  0.032, -0.071,\n",
      "        -0.08 , -0.102],\n",
      "       [ 0.115, -0.05 , -0.022, -0.901,  0.036,  0.005, -0.029, -0.082,\n",
      "        -0.097, -0.097],\n",
      "       [-0.133,  0.048,  0.014, -0.152, -1.121, -0.075,  0.103,  0.142,\n",
      "         0.173,  0.153],\n",
      "       [ 0.029, -0.009, -0.001,  0.038,  0.038, -1.011, -0.033, -0.038,\n",
      "        -0.047, -0.039],\n",
      "       [-0.053,  0.033,  0.021, -0.006,  0.066,  0.07 , -1.07 , -0.013,\n",
      "        -0.019,  0.001],\n",
      "       [ 0.008,  0.023,  0.029,  0.114,  0.226,  0.196, -0.198, -1.201,\n",
      "        -0.18 , -0.124],\n",
      "       [ 0.173, -0.073, -0.029,  0.159,  0.076,  0.027, -0.062, -0.136,\n",
      "        -1.162, -0.157],\n",
      "       [ 0.066, -0.041, -0.027,  0.006, -0.085, -0.09 ,  0.076,  0.018,\n",
      "         0.026, -1.   ]], dtype=float32)\n"
     ]
    }
   ],
   "source": [
    "# param = model.param\n",
    "# intv_param = model.intv_param\n",
    "\n",
    "if activation==\"linear\":\n",
    "    L = extract_linear_drift(model.param)\n",
    "    L_star = extract_linear_drift(true_model.param)\n",
    "\n",
    "    with jnp.printoptions(precision=3, suppress=True):\n",
    "        pprint(L)\n",
    "        pprint(L_star)\n",
    "    \n",
    "\n",
    "# pprint(param)\n",
    "# pprint(true_model.param)\n",
    "# pprint(intv_param[\"shift\"])\n",
    "# pprint(true_intv_param[\"shift\"])"
   ]
  },
  {
   "cell_type": "code",
   "execution_count": 8,
   "id": "84320c41-bc96-48a2-8eda-63f9e7d2e29e",
   "metadata": {},
   "outputs": [
    {
     "data": {
      "text/plain": [
       "<matplotlib.image.AxesImage at 0x7f8268760550>"
      ]
     },
     "execution_count": 8,
     "metadata": {},
     "output_type": "execute_result"
    },
    {
     "data": {
      "image/png": "[encoded data removed]",
      "text/plain": [
       "<Figure size 640x480 with 2 Axes>"
      ]
     },
     "metadata": {},
     "output_type": "display_data"
    }
   ],
   "source": [
    "fig, (ax1, ax2) = plt.subplots(1, 2)\n",
    "ax1.imshow(L)\n",
    "ax2.imshow(L_star)"
   ]
  },
  {
   "cell_type": "code",
   "execution_count": null,
   "id": "b860c9f6-9672-49e4-a4ef-208f303ed715",
   "metadata": {},
   "outputs": [],
   "source": []
  }
 ],
 "metadata": {
  "kernelspec": {
   "display_name": "Python 3 (ipykernel)",
   "language": "python",
   "name": "python3"
  },
  "language_info": {
   "codemirror_mode": {
    "name": "ipython",
    "version": 3
   },
   "file_extension": ".py",
   "mimetype": "text/x-python",
   "name": "python",
   "nbconvert_exporter": "python",
   "pygments_lexer": "ipython3",
   "version": "3.11.2"
  }
 },
 "nbformat": 4,
 "nbformat_minor": 5
}
