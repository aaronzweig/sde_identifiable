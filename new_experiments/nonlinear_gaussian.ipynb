{
 "cells": [
  {
   "cell_type": "code",
   "execution_count": 1,
   "id": "1f3f5439-b763-444e-9e61-96147ca2e66e",
   "metadata": {},
   "outputs": [
    {
     "name": "stderr",
     "output_type": "stream",
     "text": [
      "2025-02-08 11:20:25.624270: E external/local_xla/xla/stream_executor/cuda/cuda_fft.cc:477] Unable to register cuFFT factory: Attempting to register factory for plugin cuFFT when one has already been registered\n",
      "WARNING: All log messages before absl::InitializeLog() is called are written to STDERR\n",
      "E0000 00:00:1739031625.637669 2189536 cuda_dnn.cc:8310] Unable to register cuDNN factory: Attempting to register factory for plugin cuDNN when one has already been registered\n",
      "E0000 00:00:1739031625.641708 2189536 cuda_blas.cc:1418] Unable to register cuBLAS factory: Attempting to register factory for plugin cuBLAS when one has already been registered\n"
     ]
    }
   ],
   "source": [
    "from jax import random, numpy as jnp\n",
    "from stadion.models import LinearSDE, MLPSDE\n",
    "from pprint import pprint\n",
    "from stadion import kds_loss\n",
    "import numpy as onp\n",
    "import ot"
   ]
  },
  {
   "cell_type": "code",
   "execution_count": 2,
   "id": "759e027c-21f6-4eb5-9888-de1db3ed0bce",
   "metadata": {},
   "outputs": [],
   "source": [
    "from nn import NNSDE\n",
    "from nonlinear_script import *"
   ]
  },
  {
   "cell_type": "code",
   "execution_count": 3,
   "id": "8de9ee6e-6347-4677-9242-84a8b45de8ef",
   "metadata": {},
   "outputs": [],
   "source": [
    "n = 2000\n",
    "d = 20\n",
    "r = 2\n",
    "n_envs = 10\n",
    "n_test_envs = 10\n",
    "epsilon = 1.5\n",
    "gamma = 0.98\n",
    "activation = \"linear\"\n",
    "model_activation = \"learned\"\n",
    "\n",
    "model_hidden_size = 8\n",
    "\n",
    "bandwidth = 7.0\n",
    "steps = 30000\n",
    "estimator = \"linear\"\n",
    "reg = 0.0001\n",
    "\n",
    "intv_scale = 0.05\n",
    "\n",
    "n_samples_burnin=200\n",
    "\n",
    "seed = 50"
   ]
  },
  {
   "cell_type": "code",
   "execution_count": 4,
   "id": "0490ccbb-dde5-46cb-89d8-80415700fd65",
   "metadata": {},
   "outputs": [],
   "source": [
    "### Mini\n",
    "# d = 2\n",
    "# r = 2\n",
    "# n_envs = 2\n",
    "# n_test_envs = 2\n",
    "# steps=30000\n",
    "# intv_scale = 0.05\n",
    "# bandwidth=1.0\n",
    "# bandwidth=3.0"
   ]
  },
  {
   "cell_type": "code",
   "execution_count": 5,
   "id": "ba845a01-6a9a-4688-b5ed-63a1ec5d095a",
   "metadata": {},
   "outputs": [
    {
     "name": "stderr",
     "output_type": "stream",
     "text": [
      "WARNING:2025-02-08 11:20:27,932:jax._src.xla_bridge:987: An NVIDIA GPU may be present on this machine, but a CUDA-enabled jaxlib is not installed. Falling back to cpu.\n",
      "W0000 00:00:1739031656.509575 2189536 gpu_device.cc:2344] Cannot dlopen some GPU libraries. Please make sure the missing libraries mentioned above are installed properly if you would like to use GPU. Follow the guide at https://www.tensorflow.org/install/gpu for how to download and setup the required libraries for your platform.\n",
      "Skipping registering GPU devices...\n"
     ]
    },
    {
     "name": "stdout",
     "output_type": "stream",
     "text": [
      "step:  3000 kds:     0.011375  | min remain:  1.4  sec/step: 0.003\n",
      "step:  6000 kds:     0.001846  | min remain:  1.0  sec/step: 0.003\n",
      "step:  9000 kds:     0.001979  | min remain:  0.9  sec/step: 0.003\n",
      "step: 12000 kds:     0.001743  | min remain:  0.8  sec/step: 0.003\n",
      "step: 15000 kds:     0.001459  | min remain:  0.7  sec/step: 0.003\n",
      "step: 18000 kds:     0.001577  | min remain:  0.5  sec/step: 0.003\n",
      "step: 21000 kds:     0.001365  | min remain:  0.4  sec/step: 0.003\n",
      "step: 24000 kds:     0.001280  | min remain:  0.3  sec/step: 0.003\n",
      "step: 27000 kds:     0.001360  | min remain:  0.1  sec/step: 0.003\n",
      "step: 30000 kds:     0.001193  | min remain:  0.0  sec/step: 0.003\n",
      "[1.7197045 3.9534829 4.168993  4.3935533 9.982978  4.0282927 5.2655916\n",
      " 6.064933  4.5570793 1.8704779]\n",
      "4.600509 2.197429\n"
     ]
    }
   ],
   "source": [
    "key = random.PRNGKey(seed)\n",
    "\n",
    "true_model = build_model(r, activation, epsilon, gamma, n_samples_burnin)\n",
    "key, true_model, param = initialize_model(key, true_model, d)\n",
    "\n",
    "# key, subk1, subk2 = random.split(key, 3)\n",
    "# param[\"mlp_0\"] = sample_stiefel(subk1, d, r)\n",
    "# param[\"mlp_1\"] = sample_stiefel(subk2, d, r).T\n",
    "\n",
    "key, intv_param, datasets, targets = build_data(key, true_model, d, n_envs, intv_scale, n)\n",
    "key, test_intv_param, test_datasets, test_targets = build_data(key, true_model, d, n_test_envs, intv_scale, n)\n",
    "\n",
    "model = build_model(model_hidden_size, model_activation, epsilon, gamma, n_samples_burnin)\n",
    "model = fit_model(model, datasets, targets, intv_param, bandwidth, steps, estimator, reg)\n",
    "\n",
    "# wds, mean, std = assess_model(key, model, n_test_envs, test_intv_param, test_datasets, n)\n",
    "wds, mean, std = assess_model_mean(key, model, n_test_envs, test_intv_param, test_datasets, n)\n",
    "# wds, mean, std = assess_model_cov(key, model, n_test_envs, test_intv_param, test_datasets, n)\n",
    "\n",
    "print(wds)\n",
    "print(mean, std)"
   ]
  },
  {
   "cell_type": "code",
   "execution_count": 6,
   "id": "78c325a6-0291-4a47-8b98-e81d63446986",
   "metadata": {},
   "outputs": [],
   "source": [
    "#s: 3.5693474 1.5361391\n",
    "#l: "
   ]
  },
  {
   "cell_type": "code",
   "execution_count": 7,
   "id": "821ab5c2-fc12-4625-8416-5fee7b937eb9",
   "metadata": {},
   "outputs": [
    {
     "name": "stdout",
     "output_type": "stream",
     "text": [
      "[3.5165555 1.7679259 1.4905057 1.1689508 7.0334754 3.3718562 2.523505\n",
      " 3.7070084 1.7505672 3.427846 ] 2.9758198 1.6213742\n"
     ]
    }
   ],
   "source": [
    "Y = jnp.mean(jnp.stack(test_datasets), axis = 1)\n",
    "X = jnp.mean(Y, axis = 0, keepdims = True)\n",
    "norms = jnp.linalg.norm(X - Y, axis = 1)\n",
    "print(norms, jnp.mean(norms), jnp.std(norms))"
   ]
  },
  {
   "cell_type": "code",
   "execution_count": 8,
   "id": "7118e023-269f-4c80-b123-bb09c491e1c0",
   "metadata": {},
   "outputs": [
    {
     "name": "stdout",
     "output_type": "stream",
     "text": [
      "[0.9435499  2.6844406  1.255003   1.7170272  1.4116145  1.2211748\n",
      " 0.99792814 2.2888582  1.2750317  1.8049145 ]\n",
      "1.5599543 0.5373293\n"
     ]
    }
   ],
   "source": [
    "#oh duh\n",
    "#test the minimum possible error if you use the true model for the test interventions\n",
    "wds, mean, std = assess_model_mean(key, true_model, n_test_envs, test_intv_param, test_datasets, n)\n",
    "print(wds)  \n",
    "print(mean, std)"
   ]
  },
  {
   "cell_type": "code",
   "execution_count": 9,
   "id": "4722bb86-2a1d-4289-b1a6-98fc2b1472cb",
   "metadata": {},
   "outputs": [],
   "source": [
    "# x = jnp.zeros(d)\n",
    "# for i in range(100):\n",
    "#     x = x + true_model.f(x, true_model.param, test_intv_param.index_at(0))\n",
    "#     if i >= 98:\n",
    "#         print(x)"
   ]
  },
  {
   "cell_type": "code",
   "execution_count": null,
   "id": "b71dd4f2-0aa6-46f3-9102-0f06b6643059",
   "metadata": {},
   "outputs": [],
   "source": []
  }
 ],
 "metadata": {
  "kernelspec": {
   "display_name": "Python 3 (ipykernel)",
   "language": "python",
   "name": "python3"
  },
  "language_info": {
   "codemirror_mode": {
    "name": "ipython",
    "version": 3
   },
   "file_extension": ".py",
   "mimetype": "text/x-python",
   "name": "python",
   "nbconvert_exporter": "python",
   "pygments_lexer": "ipython3",
   "version": "3.11.2"
  }
 },
 "nbformat": 4,
 "nbformat_minor": 5
}
