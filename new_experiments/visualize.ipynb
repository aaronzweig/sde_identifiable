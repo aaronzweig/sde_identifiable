{
 "cells": [
  {
   "cell_type": "code",
   "execution_count": 1,
   "id": "1f3f5439-b763-444e-9e61-96147ca2e66e",
   "metadata": {},
   "outputs": [
    {
     "name": "stderr",
     "output_type": "stream",
     "text": [
      "2025-01-25 10:45:01.217910: E external/local_xla/xla/stream_executor/cuda/cuda_fft.cc:485] Unable to register cuFFT factory: Attempting to register factory for plugin cuFFT when one has already been registered\n",
      "2025-01-25 10:45:01.228177: E external/local_xla/xla/stream_executor/cuda/cuda_dnn.cc:8454] Unable to register cuDNN factory: Attempting to register factory for plugin cuDNN when one has already been registered\n",
      "2025-01-25 10:45:01.231323: E external/local_xla/xla/stream_executor/cuda/cuda_blas.cc:1452] Unable to register cuBLAS factory: Attempting to register factory for plugin cuBLAS when one has already been registered\n",
      "2025-01-25 10:45:01.799481: W tensorflow/compiler/tf2tensorrt/utils/py_utils.cc:38] TF-TRT Warning: Could not find TensorRT\n"
     ]
    }
   ],
   "source": [
    "from jax import random, numpy as jnp\n",
    "from stadion.models import LinearSDE, MLPSDE\n",
    "from pprint import pprint\n",
    "from stadion import kds_loss\n",
    "from scipy.linalg import solve_continuous_lyapunov\n",
    "import numpy as onp\n",
    "import ot"
   ]
  },
  {
   "cell_type": "code",
   "execution_count": 2,
   "id": "759e027c-21f6-4eb5-9888-de1db3ed0bce",
   "metadata": {},
   "outputs": [],
   "source": [
    "from nn import NNSDE"
   ]
  },
  {
   "cell_type": "code",
   "execution_count": 3,
   "id": "8de9ee6e-6347-4677-9242-84a8b45de8ef",
   "metadata": {},
   "outputs": [],
   "source": [
    "n = 10000\n",
    "d = 2\n",
    "r = 2\n",
    "n_envs = 2\n",
    "epsilon = 2.0\n",
    "gamma = 0.98\n",
    "activation = \"linear\"\n",
    "\n",
    "n_samples_burnin=200"
   ]
  },
  {
   "cell_type": "code",
   "execution_count": 4,
   "id": "17ddd3f2-dbc9-4284-a09f-09d95a214178",
   "metadata": {},
   "outputs": [
    {
     "name": "stderr",
     "output_type": "stream",
     "text": [
      "WARNING:2025-01-25 10:45:02,476:jax._src.xla_bridge:987: An NVIDIA GPU may be present on this machine, but a CUDA-enabled jaxlib is not installed. Falling back to cpu.\n"
     ]
    }
   ],
   "source": [
    "key = random.PRNGKey(10)\n",
    "true_model = NNSDE(\n",
    "    hidden_size = r, \n",
    "    activation=activation,\n",
    "    epsilon = epsilon,\n",
    "    gamma = gamma,\n",
    "    sde_kwargs = {\"n_samples_burnin\": n_samples_burnin})\n",
    "true_model.n_vars = d\n",
    "\n",
    "key, subk = random.split(key)\n",
    "param = true_model.init_param(subk, d, scale=1.0)\n",
    "true_model.param = param"
   ]
  },
  {
   "cell_type": "code",
   "execution_count": 5,
   "id": "ab8f9c9c-4a47-41ff-9596-dbd6d988f7b2",
   "metadata": {},
   "outputs": [],
   "source": [
    "#One-hot learned intervention mode\n",
    "targets = [jnp.zeros(d)]\n",
    "for k in range(n_envs-1):\n",
    "    target = jnp.array([0] * d)\n",
    "    target = target.at[k].add(1)\n",
    "    targets.append(target)\n",
    "\n",
    "key, subk = random.split(key)\n",
    "train_intv_param = true_model.init_intv_param(subk, d = d, scale=1.0, n_envs = n_envs, targets = targets)\n",
    "\n",
    "datasets = []\n",
    "for k in range(n_envs):\n",
    "    local_intv_param = train_intv_param.index_at(k)\n",
    "    key, subk = random.split(key)\n",
    "    data = true_model.sample(subk, n_samples = n, intv_param = local_intv_param)\n",
    "    datasets.append(data)"
   ]
  },
  {
   "cell_type": "code",
   "execution_count": 6,
   "id": "a9f4efc0-7eaf-47d5-a2af-c65f13c7bd6b",
   "metadata": {},
   "outputs": [],
   "source": [
    "activation=\"relu\""
   ]
  },
  {
   "cell_type": "code",
   "execution_count": 7,
   "id": "51859203-9f8c-40ba-b281-9348eea14983",
   "metadata": {},
   "outputs": [],
   "source": [
    "true_model = NNSDE(\n",
    "    hidden_size = r, \n",
    "    activation=activation,\n",
    "    epsilon = epsilon,\n",
    "    gamma = gamma,\n",
    "    sde_kwargs = {\"n_samples_burnin\": n_samples_burnin})\n",
    "true_model.n_vars = d\n",
    "\n",
    "key, subk = random.split(key)\n",
    "param = true_model.init_param(subk, d, scale=1.0)\n",
    "param[\"mlp_b_0\"] *= 0\n",
    "param[\"mlp_0\"] = jnp.identity(d)\n",
    "param[\"mlp_1\"] = jnp.identity(d)\n",
    "true_model.param = param\n",
    "\n",
    "#One-hot learned intervention mode\n",
    "targets = [jnp.zeros(d)]\n",
    "for k in range(n_envs-1):\n",
    "    target = jnp.array([0] * d)\n",
    "    target = target.at[k].add(1)\n",
    "    targets.append(target)\n",
    "\n",
    "key, subk = random.split(key)\n",
    "train_intv_param = true_model.init_intv_param(subk, d = d, scale=4.0, n_envs = n_envs, targets = targets)\n",
    "\n",
    "hard_datasets = []\n",
    "for k in range(n_envs):\n",
    "    local_intv_param = train_intv_param.index_at(k)\n",
    "    key, subk = random.split(key)\n",
    "    data = true_model.sample(subk, n_samples = n, intv_param = local_intv_param)\n",
    "    hard_datasets.append(data)"
   ]
  },
  {
   "cell_type": "code",
   "execution_count": 8,
   "id": "56a702d3-a373-47a5-b238-9ba15ca5407d",
   "metadata": {},
   "outputs": [
    {
     "data": {
      "image/png": "[encoded data removed]",
      "text/plain": [
       "<Figure size 640x480 with 4 Axes>"
      ]
     },
     "metadata": {},
     "output_type": "display_data"
    }
   ],
   "source": [
    "import matplotlib.pyplot as plt\n",
    "%matplotlib inline\n",
    "import seaborn as sns\n",
    "\n",
    "fig, axes = plt.subplots(nrows=2, ncols=2)\n",
    "\n",
    "\n",
    "for i in range(2):\n",
    "    x = datasets[i][:,0]\n",
    "    y = datasets[i][:,1]\n",
    "    # sns.set_style(\"white\")\n",
    "    sns.kdeplot(x=x, y=y, ax = axes[i,0], fill=True,cmap=\"Purples_r\")\n",
    "for i in range(2):\n",
    "    x = hard_datasets[i][:,0]\n",
    "    y = hard_datasets[i][:,1]\n",
    "    sns.kdeplot(x=x, y=y, ax = axes[i,1], fill=True,cmap=\"Purples_r\")\n",
    "plt.savefig(\"example_contour.png\")"
   ]
  },
  {
   "cell_type": "code",
   "execution_count": null,
   "id": "a7ef4326-0f0a-49f8-85d7-2fd40ff74675",
   "metadata": {},
   "outputs": [],
   "source": []
  }
 ],
 "metadata": {
  "kernelspec": {
   "display_name": "Python 3 (ipykernel)",
   "language": "python",
   "name": "python3"
  },
  "language_info": {
   "codemirror_mode": {
    "name": "ipython",
    "version": 3
   },
   "file_extension": ".py",
   "mimetype": "text/x-python",
   "name": "python",
   "nbconvert_exporter": "python",
   "pygments_lexer": "ipython3",
   "version": "3.11.2"
  }
 },
 "nbformat": 4,
 "nbformat_minor": 5
}
